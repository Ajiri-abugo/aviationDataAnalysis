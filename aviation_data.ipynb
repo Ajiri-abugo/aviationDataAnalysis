{
 "cells": [
  {
   "cell_type": "code",
   "execution_count": 4,
   "id": "56a460eb-c024-451c-b249-326e71102fd8",
   "metadata": {},
   "outputs": [],
   "source": [
    "import requests\n",
    "import json\n",
    "import csv\n",
    "import time"
   ]
  },
  {
   "cell_type": "code",
   "execution_count": 5,
   "id": "afefda42-e298-48ec-9140-776e9b767379",
   "metadata": {},
   "outputs": [],
   "source": [
    "params = {'access_key': '499313b5af90f08196e3bd55aeb22709', 'limit': '1'}\n",
    "\n",
    "api_result = requests.get('https://api.aviationstack.com/v1/flights', params)\n",
    "\n",
    "api_response = api_result.json()"
   ]
  },
  {
   "cell_type": "code",
   "execution_count": 6,
   "id": "905a05c8-a63c-408a-914d-ffee4c679c29",
   "metadata": {},
   "outputs": [
    {
     "name": "stdout",
     "output_type": "stream",
     "text": [
      "{'pagination': {'limit': 1, 'offset': 0, 'count': 1, 'total': 541052}, 'data': [{'flight_date': '2024-10-02', 'flight_status': 'scheduled', 'departure': {'airport': 'Mingaladon', 'timezone': 'Asia/Rangoon', 'iata': 'RGN', 'icao': 'VYYY', 'terminal': '3', 'gate': None, 'delay': None, 'scheduled': '2024-10-02T09:55:00+00:00', 'estimated': '2024-10-02T09:55:00+00:00', 'actual': None, 'estimated_runway': None, 'actual_runway': None}, 'arrival': {'airport': 'Kalemyo', 'timezone': 'Asia/Rangoon', 'iata': 'KMV', 'icao': 'VYKL', 'terminal': None, 'gate': None, 'baggage': None, 'delay': None, 'scheduled': '2024-10-02T11:55:00+00:00', 'estimated': '2024-10-02T11:55:00+00:00', 'actual': None, 'estimated_runway': None, 'actual_runway': None}, 'airline': {'name': 'Myanmar Airways International', 'iata': '8M', 'icao': 'MMA'}, 'flight': {'number': '4780', 'iata': '8M4780', 'icao': 'MMA4780', 'codeshared': {'airline_name': 'air kbz', 'airline_iata': 'k7', 'airline_icao': 'kbz', 'flight_number': '780', 'flight_iata': 'k7780', 'flight_icao': 'kbz780'}}, 'aircraft': None, 'live': None}]}\n"
     ]
    }
   ],
   "source": [
    "print(api_response)"
   ]
  },
  {
   "cell_type": "code",
   "execution_count": 3,
   "id": "5058dd80-c551-4224-b423-49a08784407f",
   "metadata": {},
   "outputs": [
    {
     "name": "stdout",
     "output_type": "stream",
     "text": [
      "{'pagination': {'offset': 0, 'limit': 1, 'count': 1, 'total': 6709}, 'data': [{'id': '1049328', 'gmt': '-10', 'airport_id': '1', 'iata_code': 'AAA', 'city_iata_code': 'AAA', 'icao_code': 'NTGA', 'country_iso2': 'PF', 'geoname_id': '6947726', 'latitude': '-17.05', 'longitude': '-145.41667', 'airport_name': 'Anaa', 'country_name': 'French Polynesia', 'phone_number': None, 'timezone': 'Pacific/Tahiti'}]}\n"
     ]
    }
   ],
   "source": [
    "params = {'access_key': '499313b5af90f08196e3bd55aeb22709', 'limit': '1'}\n",
    "\n",
    "api_request = requests.get('https://api.aviationstack.com/v1/airports', params)\n",
    "\n",
    "api_response = api_request.json()\n",
    "print(api_response)"
   ]
  },
  {
   "cell_type": "code",
   "execution_count": 7,
   "id": "e545f5c8-f896-48ed-8371-4e724def4fb8",
   "metadata": {
    "collapsed": true,
    "jupyter": {
     "outputs_hidden": true
    }
   },
   "outputs": [
    {
     "name": "stdout",
     "output_type": "stream",
     "text": [
      "All 6709 records retrieved.\n"
     ]
    },
    {
     "ename": "FileNotFoundError",
     "evalue": "[Errno 2] No such file or directory: '/data/airport_list.csv'",
     "output_type": "error",
     "traceback": [
      "\u001b[0;31m---------------------------------------------------------------------------\u001b[0m",
      "\u001b[0;31mFileNotFoundError\u001b[0m                         Traceback (most recent call last)",
      "Cell \u001b[0;32mIn[7], line 58\u001b[0m\n\u001b[1;32m     54\u001b[0m     airports\u001b[38;5;241m.\u001b[39mappend(airport_details)\n\u001b[1;32m     56\u001b[0m filename \u001b[38;5;241m=\u001b[39m \u001b[38;5;124m'\u001b[39m\u001b[38;5;124m/data/airport_list.csv\u001b[39m\u001b[38;5;124m'\u001b[39m\n\u001b[0;32m---> 58\u001b[0m \u001b[38;5;28;01mwith\u001b[39;00m \u001b[38;5;28;43mopen\u001b[39;49m\u001b[43m(\u001b[49m\u001b[43mfilename\u001b[49m\u001b[43m,\u001b[49m\u001b[43m \u001b[49m\u001b[38;5;124;43m'\u001b[39;49m\u001b[38;5;124;43ma\u001b[39;49m\u001b[38;5;124;43m'\u001b[39;49m\u001b[43m,\u001b[49m\u001b[43m \u001b[49m\u001b[43mnewline\u001b[49m\u001b[38;5;241;43m=\u001b[39;49m\u001b[38;5;124;43m'\u001b[39;49m\u001b[38;5;124;43m'\u001b[39;49m\u001b[43m)\u001b[49m \u001b[38;5;28;01mas\u001b[39;00m csvfile:\n\u001b[1;32m     59\u001b[0m     writer \u001b[38;5;241m=\u001b[39m csv,DictWriter(csvfile, fieldnames\u001b[38;5;241m=\u001b[39m[\u001b[38;5;124m'\u001b[39m\u001b[38;5;124mid\u001b[39m\u001b[38;5;124m'\u001b[39m, \u001b[38;5;124m'\u001b[39m\u001b[38;5;124mgmt\u001b[39m\u001b[38;5;124m'\u001b[39m, \u001b[38;5;124m'\u001b[39m\u001b[38;5;124mairport_id\u001b[39m\u001b[38;5;124m'\u001b[39m, \u001b[38;5;124m'\u001b[39m\u001b[38;5;124miata_code\u001b[39m\u001b[38;5;124m'\u001b[39m, \u001b[38;5;124m'\u001b[39m\u001b[38;5;124mcity_iata_code\u001b[39m\u001b[38;5;124m'\u001b[39m, \u001b[38;5;124m'\u001b[39m\u001b[38;5;124micao_code\u001b[39m\u001b[38;5;124m'\u001b[39m,\n\u001b[1;32m     60\u001b[0m                                                  \u001b[38;5;124m'\u001b[39m\u001b[38;5;124mcountry_iso2\u001b[39m\u001b[38;5;124m'\u001b[39m, \u001b[38;5;124m'\u001b[39m\u001b[38;5;124mgeoname_id\u001b[39m\u001b[38;5;124m'\u001b[39m, \u001b[38;5;124m'\u001b[39m\u001b[38;5;124mlatitude\u001b[39m\u001b[38;5;124m'\u001b[39m, \u001b[38;5;124m'\u001b[39m\u001b[38;5;124mlongitude\u001b[39m\u001b[38;5;124m'\u001b[39m, \u001b[38;5;124m'\u001b[39m\u001b[38;5;124mairport_name\u001b[39m\u001b[38;5;124m'\u001b[39m, \n\u001b[1;32m     61\u001b[0m                                                  \u001b[38;5;124m'\u001b[39m\u001b[38;5;124mcountry_name\u001b[39m\u001b[38;5;124m'\u001b[39m, \u001b[38;5;124m'\u001b[39m\u001b[38;5;124mphone_number\u001b[39m\u001b[38;5;124m'\u001b[39m, \u001b[38;5;124m'\u001b[39m\u001b[38;5;124mtimezone\u001b[39m\u001b[38;5;124m'\u001b[39m])\n\u001b[1;32m     62\u001b[0m     writer\u001b[38;5;241m.\u001b[39mwriteheader()\n",
      "File \u001b[0;32m~/.config/jupyterlab-desktop/jlab_server/lib/python3.12/site-packages/IPython/core/interactiveshell.py:324\u001b[0m, in \u001b[0;36m_modified_open\u001b[0;34m(file, *args, **kwargs)\u001b[0m\n\u001b[1;32m    317\u001b[0m \u001b[38;5;28;01mif\u001b[39;00m file \u001b[38;5;129;01min\u001b[39;00m {\u001b[38;5;241m0\u001b[39m, \u001b[38;5;241m1\u001b[39m, \u001b[38;5;241m2\u001b[39m}:\n\u001b[1;32m    318\u001b[0m     \u001b[38;5;28;01mraise\u001b[39;00m \u001b[38;5;167;01mValueError\u001b[39;00m(\n\u001b[1;32m    319\u001b[0m         \u001b[38;5;124mf\u001b[39m\u001b[38;5;124m\"\u001b[39m\u001b[38;5;124mIPython won\u001b[39m\u001b[38;5;124m'\u001b[39m\u001b[38;5;124mt let you open fd=\u001b[39m\u001b[38;5;132;01m{\u001b[39;00mfile\u001b[38;5;132;01m}\u001b[39;00m\u001b[38;5;124m by default \u001b[39m\u001b[38;5;124m\"\u001b[39m\n\u001b[1;32m    320\u001b[0m         \u001b[38;5;124m\"\u001b[39m\u001b[38;5;124mas it is likely to crash IPython. If you know what you are doing, \u001b[39m\u001b[38;5;124m\"\u001b[39m\n\u001b[1;32m    321\u001b[0m         \u001b[38;5;124m\"\u001b[39m\u001b[38;5;124myou can use builtins\u001b[39m\u001b[38;5;124m'\u001b[39m\u001b[38;5;124m open.\u001b[39m\u001b[38;5;124m\"\u001b[39m\n\u001b[1;32m    322\u001b[0m     )\n\u001b[0;32m--> 324\u001b[0m \u001b[38;5;28;01mreturn\u001b[39;00m \u001b[43mio_open\u001b[49m\u001b[43m(\u001b[49m\u001b[43mfile\u001b[49m\u001b[43m,\u001b[49m\u001b[43m \u001b[49m\u001b[38;5;241;43m*\u001b[39;49m\u001b[43margs\u001b[49m\u001b[43m,\u001b[49m\u001b[43m \u001b[49m\u001b[38;5;241;43m*\u001b[39;49m\u001b[38;5;241;43m*\u001b[39;49m\u001b[43mkwargs\u001b[49m\u001b[43m)\u001b[49m\n",
      "\u001b[0;31mFileNotFoundError\u001b[0m: [Errno 2] No such file or directory: '/data/airport_list.csv'"
     ]
    }
   ],
   "source": [
    "api_url = 'https://api.aviationstack.com/v1/airports'\n",
    "access_key = '499313b5af90f08196e3bd55aeb22709'\n",
    "limit = 100\n",
    "offset = 0\n",
    "\n",
    "airports = []\n",
    "while True:\n",
    "\n",
    "    params = {'access_key': access_key, 'limit': limit, 'offset': offset}\n",
    "    \n",
    "    response = requests.get(api_url, params=params)\n",
    "    \n",
    "    # Parse the response\n",
    "    if response.status_code == 200:\n",
    "        json_response = response.json()\n",
    "        data = json_response['data']\n",
    "        pagination = json_response['pagination']\n",
    "        \n",
    "        # Append the data to the master list\n",
    "        airports.extend(data)\n",
    "        \n",
    "        # Check if we've reached the total number of records\n",
    "        if pagination['count'] + pagination['offset'] >= pagination['total']:\n",
    "            print(f\"All {pagination['total']} records retrieved.\")\n",
    "            break\n",
    "        \n",
    "        # Increment the offset for the next call\n",
    "        offset += limit\n",
    "        \n",
    "        # Optional: Add a delay to avoid hitting rate limits\n",
    "        #time.sleep(1)\n",
    "    \n",
    "    else:\n",
    "        print(f\"Error: {response.status_code}\")\n",
    "        break\n",
    "\n",
    "for airport in data:\n",
    "    airport_details = {\n",
    "        'id': airport['id'],\n",
    "        'gmt': airport['gmt'],\n",
    "        'airport_id': airport['airport_id'],\n",
    "        'iata_code': airport['iata_code'],\n",
    "        'city_iata_code': airport['city_iata_code'],\n",
    "        'icao_code': airport['icao_code'],\n",
    "        'country_iso2': airport['country_iso2'],\n",
    "        'geoname_id': airport['geoname_id'],\n",
    "        'latitude': airport['latitude'],\n",
    "        'longitude': airport['longitude'],\n",
    "        'airport_name': airport['airport_name'],\n",
    "        'country_name': airport['country_name'],\n",
    "        'phone_number': airport['phone_number'],\n",
    "        'timezone': airport['timezone']\n",
    "    }\n",
    "    airports.append(airport_details)\n",
    "    \n",
    "        "
   ]
  },
  {
   "cell_type": "code",
   "execution_count": 10,
   "id": "ecc1bbfa-e45d-400d-94ca-b45dd823f1c6",
   "metadata": {},
   "outputs": [],
   "source": [
    "filename = '/home/ajiri/project/aviationDataAnalysis/data/airport_list.csv'\n",
    "\n",
    "with open(filename, 'w', newline='') as csvfile:\n",
    "    writer = csv.DictWriter(csvfile, fieldnames=['id', 'gmt', 'airport_id', 'iata_code', 'city_iata_code', 'icao_code',\n",
    "                                                 'country_iso2', 'geoname_id', 'latitude', 'longitude', 'airport_name', \n",
    "                                                 'country_name', 'phone_number', 'timezone'])\n",
    "    writer.writeheader()\n",
    "    writer.writerows(airports)"
   ]
  },
  {
   "cell_type": "code",
   "execution_count": null,
   "id": "add28a27-f371-4fbf-855b-8a4b6166316b",
   "metadata": {},
   "outputs": [],
   "source": []
  }
 ],
 "metadata": {
  "kernelspec": {
   "display_name": "Python 3 (ipykernel)",
   "language": "python",
   "name": "python3"
  },
  "language_info": {
   "codemirror_mode": {
    "name": "ipython",
    "version": 3
   },
   "file_extension": ".py",
   "mimetype": "text/x-python",
   "name": "python",
   "nbconvert_exporter": "python",
   "pygments_lexer": "ipython3",
   "version": "3.12.3"
  }
 },
 "nbformat": 4,
 "nbformat_minor": 5
}
